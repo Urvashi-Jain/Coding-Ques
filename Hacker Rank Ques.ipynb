{
 "cells": [
  {
   "cell_type": "markdown",
   "metadata": {},
   "source": [
    "**Task**\n",
    "\n",
    "**Given an integer, n, perform the following conditional actions:**\n",
    "\n",
    "**If n is odd, print Weird**\n",
    "\n",
    "**If n is even and in the inclusive range of 2 to 5, print Not Weird**\n",
    "\n",
    "**If n is even and in the inclusive range of 6 to 20, print Weird**\n",
    "\n",
    "**If n is even and greater than 20, print Not Weird**\n",
    "\n",
    "**Input Format: A single line containing a positive integer, n.**\n",
    "\n",
    "**Constraints: 1<=n<=100**\n",
    "\n",
    "**Output Format: Print Weird if the number is weird. Otherwise, print Not Weird.**\n",
    "\n",
    "**Sample Input 0: 3**\n",
    "\n",
    "**Sample Output 0: Weird**\n",
    "\n",
    "**Explanation 0: n=3. n is odd and odd numbers are weird, so print Weird.**\n",
    "\n",
    "**Sample Input 1: 24**\n",
    "\n",
    "**Sample Output 1: Not Weird**\n",
    "\n",
    "**Explanation 1: n=24. n>20 and n is even, so it is not weird.**"
   ]
  },
  {
   "cell_type": "code",
   "execution_count": 1,
   "metadata": {},
   "outputs": [
    {
     "name": "stdout",
     "output_type": "stream",
     "text": [
      "2\n",
      "Not Weird\n"
     ]
    }
   ],
   "source": [
    "#!/bin/python3\n",
    "\n",
    "import math\n",
    "import os\n",
    "import random\n",
    "import re\n",
    "import sys\n",
    "\n",
    "\n",
    "\n",
    "if __name__ == '__main__':\n",
    "    n = int(input().strip())\n",
    "    if (n>=1 and n<=100):\n",
    "        if (n%2!=0):\n",
    "            print('Weird')\n",
    "        elif(n%2==0 and n>=2 and n<=5):\n",
    "            print('Not Weird')\n",
    "        elif(n%2==0 and n>=6 and n<=20):\n",
    "            print('Weird')\n",
    "        elif (n%2==0 and n>20):\n",
    "            print('Not Weird')"
   ]
  },
  {
   "cell_type": "markdown",
   "metadata": {},
   "source": [
    "**Task: The provided code stub reads two integers from STDIN, a and b. Add code to print three lines where:**\n",
    "\n",
    "**1. The first line contains the sum of the two numbers.**\n",
    "\n",
    "**2. The second line contains the difference of the two numbers (first - second).**\n",
    "\n",
    "**3. The third line contains the product of the two numbers.**\n",
    "\n",
    "**Example: a=3, b=5**\n",
    "\n",
    "**Print the following:**\n",
    "\n",
    "8\n",
    "\n",
    "-2\n",
    "\n",
    "15\n",
    "\n",
    "**Input Format: The first line contains the first integer, a. The second line contains the second integer, b.**\n",
    "\n",
    "**Output Format: Print the three lines as explained above.**\n",
    "\n",
    "**Sample Input 0**\n",
    "\n",
    "3\n",
    "\n",
    "2\n",
    "\n",
    "**Sample Output 0**\n",
    "\n",
    "5\n",
    "\n",
    "1\n",
    "\n",
    "6\n",
    "\n",
    "**Explanation 0:**\n",
    "\n",
    "3+2 => 5\n",
    "\n",
    "3-2 => 1\n",
    "\n",
    "3*2 => 6"
   ]
  },
  {
   "cell_type": "code",
   "execution_count": 2,
   "metadata": {},
   "outputs": [
    {
     "name": "stdout",
     "output_type": "stream",
     "text": [
      "3\n",
      "2\n",
      "5\n",
      "1\n",
      "6\n"
     ]
    }
   ],
   "source": [
    "if __name__ == '__main__':\n",
    "    a = int(input())\n",
    "    b = int(input())\n",
    "    print(a+b)\n",
    "    print(a-b)\n",
    "    print(a*b)"
   ]
  },
  {
   "cell_type": "markdown",
   "metadata": {},
   "source": [
    "**Task: The provided code stub reads two integers, a and b, from STDIN. Add logic to print two lines. The first line should contain the result of integer division,  a//b . The second line should contain the result of float division, a/b. No rounding or formatting is necessary.**\n",
    "\n",
    "**Example**\n",
    "\n",
    "a=3\n",
    "\n",
    "b=5\n",
    "\n",
    "* The result of the integer division 3//5=0.\n",
    "* The result of the float division is 3/5=0.6.\n",
    "\n",
    "**Print:**\n",
    "\n",
    "0\n",
    "\n",
    "0.6\n",
    "\n",
    "**Input Format: The first line contains the first integer, a. The second line contains the second integer, b.**\n",
    "\n",
    "**Output Format: Print the two lines as described above.**\n",
    "\n",
    "**Sample Input 0**\n",
    "\n",
    "4\n",
    "\n",
    "3\n",
    "\n",
    "**Sample Output 0**\n",
    "\n",
    "1\n",
    "\n",
    "1.33333333333"
   ]
  },
  {
   "cell_type": "code",
   "execution_count": 1,
   "metadata": {},
   "outputs": [
    {
     "name": "stdout",
     "output_type": "stream",
     "text": [
      "4\n",
      "3\n",
      "1\n",
      "1.3333333333333333\n"
     ]
    }
   ],
   "source": [
    "if __name__ == '__main__':\n",
    "    a = int(input())\n",
    "    b = int(input())\n",
    "    print(a//b)     #integer division\n",
    "    print(a/b)      #float division"
   ]
  },
  {
   "cell_type": "markdown",
   "metadata": {},
   "source": [
    "**Task: The provided code stub reads and integer, n, from STDIN. For all non-negative integers i<n, print i^2.**\n",
    "\n",
    "**Example: n=3. The list of non-negative integers that are less than n=3 is [0,1,2]. Print the square of each number on a separate line.**\n",
    "\n",
    "0\n",
    "\n",
    "1\n",
    "\n",
    "4\n",
    "\n",
    "**Input Format: The first and only line contains the integer, n.**\n",
    "\n",
    "**Constraints: 1<=n<=20**\n",
    "\n",
    "**Output Format: Print n lines, one corresponding to each i.**\n",
    "\n",
    "**Sample Input 0: 5**\n",
    "\n",
    "**Sample Output 0**\n",
    "\n",
    "0\n",
    "\n",
    "1\n",
    "\n",
    "4\n",
    "\n",
    "9\n",
    "\n",
    "16"
   ]
  },
  {
   "cell_type": "code",
   "execution_count": 2,
   "metadata": {},
   "outputs": [
    {
     "name": "stdout",
     "output_type": "stream",
     "text": [
      "5\n",
      "0\n",
      "1\n",
      "4\n",
      "9\n",
      "16\n"
     ]
    }
   ],
   "source": [
    "if __name__ == '__main__':\n",
    "    n = int(input())\n",
    "    if (n>=1 and n<=20):\n",
    "        for i in range(n):\n",
    "            print(i**2)"
   ]
  },
  {
   "cell_type": "markdown",
   "metadata": {},
   "source": [
    "**An extra day is added to the calendar almost every four years as February 29, and the day is called a leap day. It corrects the calendar for the fact that our planet takes approximately 365.25 days to orbit the sun. A leap year contains a leap day.**\n",
    "\n",
    "**In the Gregorian calendar, three conditions are used to identify leap years:**\n",
    "\n",
    "* The year can be evenly divided by 4, is a leap year, unless:\n",
    "    * The year can be evenly divided by 100, it is NOT a leap year, unless:\n",
    "        * The year is also evenly divisible by 400. Then it is a leap year.\n",
    "        \n",
    "**This means that in the Gregorian calendar, the years 2000 and 2400 are leap years, while 1800, 1900, 2100, 2200, 2300 and 2500 are NOT leap years.**\n",
    "\n",
    "Source: https://www.timeanddate.com/date/leapyear.html\n",
    "\n",
    "**Task: Given a year, determine whether it is a leap year. If it is a leap year, return the Boolean True, otherwise return False.**\n",
    "\n",
    "**Note that the code stub provided reads from STDIN and passes arguments to the is_leap function. It is only necessary to complete the is_leap function.**\n",
    "\n",
    "**Input Format: Read year, the year to test.**\n",
    "\n",
    "**Constraints: 1900<=year<=10^5**\n",
    "\n",
    "**Output Format: The function must return a Boolean value (True/False). Output is handled by the provided code stub.**\n",
    "\n",
    "**Sample Input 0: 1990**\n",
    "\n",
    "**Sample Output 0: False**\n",
    "\n",
    "**Explanation 0: 1990 is not a multiple of 4 hence it's not a leap year.**"
   ]
  },
  {
   "cell_type": "code",
   "execution_count": 4,
   "metadata": {},
   "outputs": [
    {
     "name": "stdout",
     "output_type": "stream",
     "text": [
      "1990\n",
      "False\n"
     ]
    }
   ],
   "source": [
    "def is_leap(year):\n",
    "    leap = False\n",
    "    if (year%400==0) or (year%4==0 and year%100!=0):\n",
    "        leap=True\n",
    "    else:\n",
    "        leap=False\n",
    "    return leap\n",
    "year = int(input())\n",
    "print(is_leap(year))"
   ]
  },
  {
   "cell_type": "markdown",
   "metadata": {},
   "source": [
    "**The included code stub will read an integer, n, from STDIN. Without using any string methods, try to print the following:**\n",
    "\n",
    "123...n\n",
    "\n",
    "**Note that \"...\" represents the consecutive values in between.**\n",
    "\n",
    "**Example: n=5. Print the string 12345.\n",
    "\n",
    "**Input Format: The first line contains an integer n.**\n",
    "\n",
    "**Constraints: 1<=n<=150**\n",
    "\n",
    "**Output Format: Print the list of integers from 1 through n as a string, without spaces.**\n",
    "\n",
    "**Sample Input 0: 3**\n",
    "\n",
    "**Sample Output 0: 123**"
   ]
  },
  {
   "cell_type": "code",
   "execution_count": 5,
   "metadata": {},
   "outputs": [
    {
     "name": "stdout",
     "output_type": "stream",
     "text": [
      "5\n",
      "12345"
     ]
    }
   ],
   "source": [
    "if __name__ == '__main__':\n",
    "    n = int(input())\n",
    "    for i in range(1,n+1):\n",
    "        print(i,end='')"
   ]
  },
  {
   "cell_type": "markdown",
   "metadata": {},
   "source": [
    "**Let's learn about list comprehensions! You are given three integers x,y and z representing the dimensions of a cuboid along with an integer n. Print a list of all possible coordinates given by (i,j,k) on a 3D grid where the sum of i+j+k is not equal to n. Here, \n",
    "\n",
    "0<=i<=x\n",
    "0<=j<=y\n",
    "0<=k<=z\n",
    "\n",
    "**Please use list comprehensions rather than multiple loops, as a learning exercise.**\n",
    "\n",
    "**Example: x=1, y=1, z=2, n=3**\n",
    "\n",
    "**All permutations of [i,j,k] are: [0,0,0], [0,0,1], [0,0,2], [0,1,0], [0,1,1], [1,0,0], [1,0,1],[1,1,0], [1,1,2]**\n",
    "\n",
    "**Print an array of the elements that do not sum to n=3.**\n",
    "\n",
    "**[0,0,0], [0,0,1], [0,0,2], [0,1,0], [0,1,1], [1,0,0], [1,0,1],[1,1,0], [1,1,2]**\n",
    "\n",
    "**Input Format: Four integers x,y,z and n, each on a separate line.**\n",
    "\n",
    "**Constraints: Print the list in lexicographic increasing order.**\n",
    "\n",
    "**Sample Input 0**\n",
    "\n",
    "1\n",
    "\n",
    "1\n",
    "\n",
    "1\n",
    "\n",
    "2\n",
    "\n",
    "**Sample Output 0: [[0, 0, 0], [0, 0, 1], [0, 1, 0], [1, 0, 0], [1, 1, 1]]**\n",
    "\n",
    "**Explanation 0: Each variable x, y and z will have values of 0 or 1. All permutations of lists in the form\n",
    "\n",
    "**[i,j,k] = [[0, 0, 0], [0, 0, 1], [0, 1, 0], [1, 0, 0], [1, 1, 1]]**\n",
    "\n",
    "**Remove all arrays that sum to n=2 to leave only the valid permutations.**\n",
    "\n",
    "**Sample Input 1**\n",
    "\n",
    "2\n",
    "\n",
    "2\n",
    "\n",
    "2\n",
    "\n",
    "2\n",
    "\n",
    "**Sample Output 1**\n",
    "\n",
    "[[0, 0, 0], [0, 0, 1], [0, 1, 0], [0, 1, 2], [0, 2, 1], [0, 2, 2], [1, 0, 0], [1, 0, 2], [1, 1, 1], [1, 1, 2], [1, 2, 0], [1, 2, 1], [1, 2, 2], [2, 0, 1], [2, 0, 2], [2, 1, 0], [2, 1, 1], [2, 1, 2], [2, 2, 0], [2, 2, 1], [2, 2, 2]]"
   ]
  },
  {
   "cell_type": "code",
   "execution_count": 6,
   "metadata": {},
   "outputs": [
    {
     "name": "stdout",
     "output_type": "stream",
     "text": [
      "2\n",
      "2\n",
      "2\n",
      "2\n",
      "[[0, 0, 0], [0, 0, 1], [0, 1, 0], [0, 1, 2], [0, 2, 1], [0, 2, 2], [1, 0, 0], [1, 0, 2], [1, 1, 1], [1, 1, 2], [1, 2, 0], [1, 2, 1], [1, 2, 2], [2, 0, 1], [2, 0, 2], [2, 1, 0], [2, 1, 1], [2, 1, 2], [2, 2, 0], [2, 2, 1], [2, 2, 2]]\n"
     ]
    }
   ],
   "source": [
    "if __name__ == '__main__':\n",
    "    x = int(input())\n",
    "    y = int(input())\n",
    "    z = int(input())\n",
    "    n = int(input())\n",
    "    l2=[]\n",
    "    for i in range(x+1):\n",
    "        for j in range(y+1):\n",
    "            for k in range(z+1):\n",
    "                if (i+j+k)!=n:\n",
    "                    l1 = [i,j,k]\n",
    "                    l2.append(l1)\n",
    "    print(l2)"
   ]
  },
  {
   "cell_type": "code",
   "execution_count": 7,
   "metadata": {},
   "outputs": [
    {
     "name": "stdout",
     "output_type": "stream",
     "text": [
      "[[0, 0, 0], [0, 0, 1], [0, 1, 0], [0, 1, 2], [0, 2, 1], [0, 2, 2], [1, 0, 0], [1, 0, 2], [1, 1, 1], [1, 1, 2], [1, 2, 0], [1, 2, 1], [1, 2, 2], [2, 0, 1], [2, 0, 2], [2, 1, 0], [2, 1, 1], [2, 1, 2], [2, 2, 0], [2, 2, 1], [2, 2, 2]]\n"
     ]
    }
   ],
   "source": [
    "print([ [ i, j, k] for i in range( x + 1) for j in range( y + 1) for k in range(z+1) if ( ( i + j + k) != n )])"
   ]
  },
  {
   "cell_type": "code",
   "execution_count": null,
   "metadata": {},
   "outputs": [],
   "source": []
  },
  {
   "cell_type": "code",
   "execution_count": null,
   "metadata": {},
   "outputs": [],
   "source": []
  },
  {
   "cell_type": "code",
   "execution_count": null,
   "metadata": {},
   "outputs": [],
   "source": []
  },
  {
   "cell_type": "code",
   "execution_count": null,
   "metadata": {},
   "outputs": [],
   "source": []
  }
 ],
 "metadata": {
  "kernelspec": {
   "display_name": "Python 3",
   "language": "python",
   "name": "python3"
  },
  "language_info": {
   "codemirror_mode": {
    "name": "ipython",
    "version": 3
   },
   "file_extension": ".py",
   "mimetype": "text/x-python",
   "name": "python",
   "nbconvert_exporter": "python",
   "pygments_lexer": "ipython3",
   "version": "3.7.1"
  }
 },
 "nbformat": 4,
 "nbformat_minor": 2
}
